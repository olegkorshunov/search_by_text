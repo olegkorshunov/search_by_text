{
 "cells": [
  {
   "cell_type": "code",
   "execution_count": 1,
   "metadata": {},
   "outputs": [
    {
     "data": {
      "text/html": [
       "<div>\n",
       "<style scoped>\n",
       "    .dataframe tbody tr th:only-of-type {\n",
       "        vertical-align: middle;\n",
       "    }\n",
       "\n",
       "    .dataframe tbody tr th {\n",
       "        vertical-align: top;\n",
       "    }\n",
       "\n",
       "    .dataframe thead th {\n",
       "        text-align: right;\n",
       "    }\n",
       "</style>\n",
       "<table border=\"1\" class=\"dataframe\">\n",
       "  <thead>\n",
       "    <tr style=\"text-align: right;\">\n",
       "      <th></th>\n",
       "      <th>text</th>\n",
       "      <th>created_date</th>\n",
       "      <th>rubrics</th>\n",
       "    </tr>\n",
       "  </thead>\n",
       "  <tbody>\n",
       "    <tr>\n",
       "      <th>0</th>\n",
       "      <td>Слив информации на пассивки:\\n\\n• Булл (Блокир...</td>\n",
       "      <td>2019-07-25 12:42:13</td>\n",
       "      <td>['VK-1603736028819866', 'VK-11879320040', 'VK-...</td>\n",
       "    </tr>\n",
       "    <tr>\n",
       "      <th>1</th>\n",
       "      <td>🎁 Конкурс на НОВЫЙ СКИН ‼️\\n\\nУсловия: \\n\\n- L...</td>\n",
       "      <td>2019-05-31 17:18:42</td>\n",
       "      <td>['VK-1603736028819866', 'VK-95883495386', 'VK-...</td>\n",
       "    </tr>\n",
       "    <tr>\n",
       "      <th>2</th>\n",
       "      <td>Интересно узнать ваше мнение, очень долгий пер...</td>\n",
       "      <td>2019-05-16 05:59:36</td>\n",
       "      <td>['VK-1603736028819866', 'VK-64144010029', 'VK-...</td>\n",
       "    </tr>\n",
       "    <tr>\n",
       "      <th>3</th>\n",
       "      <td>моя первая попытка построить что-то боле менее...</td>\n",
       "      <td>2019-12-26 09:27:00</td>\n",
       "      <td>['VK-1603736028819866', 'VK-10925451700', 'VK-...</td>\n",
       "    </tr>\n",
       "    <tr>\n",
       "      <th>4</th>\n",
       "      <td>Новый боевой таз. Был в наличии только смоляно...</td>\n",
       "      <td>2019-12-24 15:05:57</td>\n",
       "      <td>['VK-1603736028819866', 'VK-62365061197', 'VK-...</td>\n",
       "    </tr>\n",
       "  </tbody>\n",
       "</table>\n",
       "</div>"
      ],
      "text/plain": [
       "                                                text         created_date  \\\n",
       "0  Слив информации на пассивки:\\n\\n• Булл (Блокир...  2019-07-25 12:42:13   \n",
       "1  🎁 Конкурс на НОВЫЙ СКИН ‼️\\n\\nУсловия: \\n\\n- L...  2019-05-31 17:18:42   \n",
       "2  Интересно узнать ваше мнение, очень долгий пер...  2019-05-16 05:59:36   \n",
       "3  моя первая попытка построить что-то боле менее...  2019-12-26 09:27:00   \n",
       "4  Новый боевой таз. Был в наличии только смоляно...  2019-12-24 15:05:57   \n",
       "\n",
       "                                             rubrics  \n",
       "0  ['VK-1603736028819866', 'VK-11879320040', 'VK-...  \n",
       "1  ['VK-1603736028819866', 'VK-95883495386', 'VK-...  \n",
       "2  ['VK-1603736028819866', 'VK-64144010029', 'VK-...  \n",
       "3  ['VK-1603736028819866', 'VK-10925451700', 'VK-...  \n",
       "4  ['VK-1603736028819866', 'VK-62365061197', 'VK-...  "
      ]
     },
     "execution_count": 1,
     "metadata": {},
     "output_type": "execute_result"
    }
   ],
   "source": [
    "import pandas as pd\n",
    "df=pd.read_csv('posts.csv')\n",
    "df.head()"
   ]
  },
  {
   "cell_type": "code",
   "execution_count": 2,
   "metadata": {},
   "outputs": [
    {
     "data": {
      "text/plain": [
       "(1500, 3)"
      ]
     },
     "execution_count": 2,
     "metadata": {},
     "output_type": "execute_result"
    }
   ],
   "source": [
    "df.shape"
   ]
  },
  {
   "cell_type": "code",
   "execution_count": 3,
   "metadata": {},
   "outputs": [
    {
     "data": {
      "text/plain": [
       "text            object\n",
       "created_date    object\n",
       "rubrics         object\n",
       "dtype: object"
      ]
     },
     "execution_count": 3,
     "metadata": {},
     "output_type": "execute_result"
    }
   ],
   "source": [
    "df.dtypes"
   ]
  },
  {
   "cell_type": "code",
   "execution_count": 4,
   "metadata": {},
   "outputs": [],
   "source": [
    "df.created_date=df.created_date.astype('datetime64')"
   ]
  },
  {
   "cell_type": "code",
   "execution_count": 5,
   "metadata": {},
   "outputs": [
    {
     "data": {
      "text/plain": [
       "text                    object\n",
       "created_date    datetime64[ns]\n",
       "rubrics                 object\n",
       "dtype: object"
      ]
     },
     "execution_count": 5,
     "metadata": {},
     "output_type": "execute_result"
    }
   ],
   "source": [
    "df.dtypes"
   ]
  },
  {
   "cell_type": "code",
   "execution_count": 6,
   "metadata": {},
   "outputs": [
    {
     "data": {
      "text/html": [
       "<div>\n",
       "<style scoped>\n",
       "    .dataframe tbody tr th:only-of-type {\n",
       "        vertical-align: middle;\n",
       "    }\n",
       "\n",
       "    .dataframe tbody tr th {\n",
       "        vertical-align: top;\n",
       "    }\n",
       "\n",
       "    .dataframe thead th {\n",
       "        text-align: right;\n",
       "    }\n",
       "</style>\n",
       "<table border=\"1\" class=\"dataframe\">\n",
       "  <thead>\n",
       "    <tr style=\"text-align: right;\">\n",
       "      <th></th>\n",
       "      <th>text</th>\n",
       "      <th>created_date</th>\n",
       "      <th>rubrics</th>\n",
       "    </tr>\n",
       "  </thead>\n",
       "  <tbody>\n",
       "    <tr>\n",
       "      <th>0</th>\n",
       "      <td>Слив информации на пассивки:\\n\\n• Булл (Блокир...</td>\n",
       "      <td>2019-07-25 12:42:13</td>\n",
       "      <td>['VK-1603736028819866', 'VK-11879320040', 'VK-...</td>\n",
       "    </tr>\n",
       "    <tr>\n",
       "      <th>1</th>\n",
       "      <td>🎁 Конкурс на НОВЫЙ СКИН ‼️\\n\\nУсловия: \\n\\n- L...</td>\n",
       "      <td>2019-05-31 17:18:42</td>\n",
       "      <td>['VK-1603736028819866', 'VK-95883495386', 'VK-...</td>\n",
       "    </tr>\n",
       "    <tr>\n",
       "      <th>2</th>\n",
       "      <td>Интересно узнать ваше мнение, очень долгий пер...</td>\n",
       "      <td>2019-05-16 05:59:36</td>\n",
       "      <td>['VK-1603736028819866', 'VK-64144010029', 'VK-...</td>\n",
       "    </tr>\n",
       "    <tr>\n",
       "      <th>3</th>\n",
       "      <td>моя первая попытка построить что-то боле менее...</td>\n",
       "      <td>2019-12-26 09:27:00</td>\n",
       "      <td>['VK-1603736028819866', 'VK-10925451700', 'VK-...</td>\n",
       "    </tr>\n",
       "    <tr>\n",
       "      <th>4</th>\n",
       "      <td>Новый боевой таз. Был в наличии только смоляно...</td>\n",
       "      <td>2019-12-24 15:05:57</td>\n",
       "      <td>['VK-1603736028819866', 'VK-62365061197', 'VK-...</td>\n",
       "    </tr>\n",
       "  </tbody>\n",
       "</table>\n",
       "</div>"
      ],
      "text/plain": [
       "                                                text        created_date  \\\n",
       "0  Слив информации на пассивки:\\n\\n• Булл (Блокир... 2019-07-25 12:42:13   \n",
       "1  🎁 Конкурс на НОВЫЙ СКИН ‼️\\n\\nУсловия: \\n\\n- L... 2019-05-31 17:18:42   \n",
       "2  Интересно узнать ваше мнение, очень долгий пер... 2019-05-16 05:59:36   \n",
       "3  моя первая попытка построить что-то боле менее... 2019-12-26 09:27:00   \n",
       "4  Новый боевой таз. Был в наличии только смоляно... 2019-12-24 15:05:57   \n",
       "\n",
       "                                             rubrics  \n",
       "0  ['VK-1603736028819866', 'VK-11879320040', 'VK-...  \n",
       "1  ['VK-1603736028819866', 'VK-95883495386', 'VK-...  \n",
       "2  ['VK-1603736028819866', 'VK-64144010029', 'VK-...  \n",
       "3  ['VK-1603736028819866', 'VK-10925451700', 'VK-...  \n",
       "4  ['VK-1603736028819866', 'VK-62365061197', 'VK-...  "
      ]
     },
     "execution_count": 6,
     "metadata": {},
     "output_type": "execute_result"
    }
   ],
   "source": [
    "df.head()"
   ]
  },
  {
   "cell_type": "code",
   "execution_count": 7,
   "metadata": {},
   "outputs": [],
   "source": [
    "import sqlite3\n",
    "database = \"./posts.sqlite\"\n",
    "conn = sqlite3.connect(database)\n",
    "df.to_sql('posts', con=conn,if_exists='replace',index_label='id')\n",
    "conn.close()"
   ]
  }
 ],
 "metadata": {
  "interpreter": {
   "hash": "be6bd2efad203d2cae57e2e878356e649b2fe7088ace7bbc3beb1bc52babd538"
  },
  "kernelspec": {
   "display_name": "Python 3.10.4 ('.venv': pipenv)",
   "language": "python",
   "name": "python3"
  },
  "language_info": {
   "codemirror_mode": {
    "name": "ipython",
    "version": 3
   },
   "file_extension": ".py",
   "mimetype": "text/x-python",
   "name": "python",
   "nbconvert_exporter": "python",
   "pygments_lexer": "ipython3",
   "version": "3.10.4"
  },
  "orig_nbformat": 4
 },
 "nbformat": 4,
 "nbformat_minor": 2
}
